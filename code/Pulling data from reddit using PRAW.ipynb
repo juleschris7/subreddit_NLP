{
 "cells": [
  {
   "cell_type": "code",
   "execution_count": 2,
   "metadata": {},
   "outputs": [],
   "source": [
    "#Code from this notebook is modified from a tutorial done by Heather Robbins for General Assembly\n",
    "# Use below if praw is not installed\n",
    "#!pip install praw"
   ]
  },
  {
   "cell_type": "code",
   "execution_count": 1,
   "metadata": {},
   "outputs": [],
   "source": [
    "# imports\n",
    "import praw\n",
    "import pandas as pd"
   ]
  },
  {
   "cell_type": "code",
   "execution_count": 2,
   "metadata": {},
   "outputs": [],
   "source": [
    "reddit = praw.Reddit(client_id = 'client_id',     #personal use script key\n",
    "                     client_secret = 'secret_client_code', #secret key\n",
    "                     user_agent = 'name',    #Whatever name you gave your application\n",
    "                     username = 'username',      #Reddit user name\n",
    "                     password = 'password')      #Reddit password"
   ]
  },
  {
   "cell_type": "code",
   "execution_count": 3,
   "metadata": {},
   "outputs": [],
   "source": [
    "# Pulling from subreddits initially\n",
    "subreddit = reddit.subreddit('DungeonsAndDragons')    #set to variable name, pick the name of a subreddit\n",
    "altsubreddit = reddit.subreddit('Warhammer40k')"
   ]
  },
  {
   "cell_type": "code",
   "execution_count": 6,
   "metadata": {},
   "outputs": [],
   "source": [
    "# Limit set to 1000 because that is the limit of what can be pulled at once using PRAW and we want as many as possible\n",
    "subreddit_new = subreddit.new(limit = 1000)\n",
    "subreddit_new_2 = altsubreddit.new(limit = 1000)"
   ]
  },
  {
   "cell_type": "code",
   "execution_count": 3,
   "metadata": {},
   "outputs": [],
   "source": [
    "def df_formation(subr):\n",
    "    topics_dict = { \"title\":[],\n",
    "                    \"score\":[],\n",
    "                    \"id\":[],\n",
    "                    \"url\":[], \n",
    "                    \"comms_num\": [],\n",
    "                    \"created\": [],\n",
    "                    \"body\":[]}\n",
    "\n",
    "    #Use a for loop to take the posts gathered by the wrapper and place them into a dictionary.\n",
    "\n",
    "    for item in subr:\n",
    "        topics_dict[\"title\"].append(item.title)\n",
    "        topics_dict[\"score\"].append(item.score)\n",
    "        topics_dict[\"id\"].append(item.id)\n",
    "        topics_dict[\"url\"].append(item.url)\n",
    "        topics_dict[\"comms_num\"].append(item.num_comments)\n",
    "        topics_dict[\"created\"].append(item.created)\n",
    "        topics_dict[\"body\"].append(item.selftext)\n",
    "\n",
    "    df = pd.DataFrame(topics_dict)\n",
    "    return df"
   ]
  },
  {
   "cell_type": "code",
   "execution_count": 8,
   "metadata": {},
   "outputs": [],
   "source": [
    "# put everything int pandas dataframes\n",
    "df_dnd = df_formation(subreddit_new)\n",
    "df_40k = df_formation(subreddit_new_2)"
   ]
  },
  {
   "cell_type": "code",
   "execution_count": 10,
   "metadata": {},
   "outputs": [],
   "source": [
    "df_dnd['target1'] = 'dnd'\n",
    "df_40k['target1'] = '40k'"
   ]
  },
  {
   "cell_type": "code",
   "execution_count": 17,
   "metadata": {},
   "outputs": [
    {
     "data": {
      "text/plain": [
       "((995, 8), (999, 8))"
      ]
     },
     "execution_count": 17,
     "metadata": {},
     "output_type": "execute_result"
    }
   ],
   "source": [
    "df_dnd.shape, df_40k.shape"
   ]
  },
  {
   "cell_type": "code",
   "execution_count": 12,
   "metadata": {},
   "outputs": [],
   "source": [
    "df_total = pd.concat([df_dnd, df_40k])"
   ]
  },
  {
   "cell_type": "code",
   "execution_count": 13,
   "metadata": {},
   "outputs": [
    {
     "data": {
      "text/html": [
       "<div>\n",
       "<style scoped>\n",
       "    .dataframe tbody tr th:only-of-type {\n",
       "        vertical-align: middle;\n",
       "    }\n",
       "\n",
       "    .dataframe tbody tr th {\n",
       "        vertical-align: top;\n",
       "    }\n",
       "\n",
       "    .dataframe thead th {\n",
       "        text-align: right;\n",
       "    }\n",
       "</style>\n",
       "<table border=\"1\" class=\"dataframe\">\n",
       "  <thead>\n",
       "    <tr style=\"text-align: right;\">\n",
       "      <th></th>\n",
       "      <th>title</th>\n",
       "      <th>score</th>\n",
       "      <th>id</th>\n",
       "      <th>url</th>\n",
       "      <th>comms_num</th>\n",
       "      <th>created</th>\n",
       "      <th>body</th>\n",
       "      <th>subreddit</th>\n",
       "    </tr>\n",
       "  </thead>\n",
       "  <tbody>\n",
       "    <tr>\n",
       "      <th>0</th>\n",
       "      <td>Looking for a list of in-game books for my pla...</td>\n",
       "      <td>1</td>\n",
       "      <td>jc20y1</td>\n",
       "      <td>https://www.reddit.com/r/DungeonsAndDragons/co...</td>\n",
       "      <td>0</td>\n",
       "      <td>1.602846e+09</td>\n",
       "      <td>Preferably books that can go in most any medie...</td>\n",
       "      <td>dnd</td>\n",
       "    </tr>\n",
       "    <tr>\n",
       "      <th>1</th>\n",
       "      <td>Need a bit of assistance</td>\n",
       "      <td>1</td>\n",
       "      <td>jc1p79</td>\n",
       "      <td>https://www.reddit.com/r/DungeonsAndDragons/co...</td>\n",
       "      <td>2</td>\n",
       "      <td>1.602845e+09</td>\n",
       "      <td>Dont know much, but I want to try and get into...</td>\n",
       "      <td>dnd</td>\n",
       "    </tr>\n",
       "    <tr>\n",
       "      <th>2</th>\n",
       "      <td>[OC][Adventure]Something Wicked at the Eldritc...</td>\n",
       "      <td>1</td>\n",
       "      <td>jc1n6h</td>\n",
       "      <td>https://www.reddit.com/r/DungeonsAndDragons/co...</td>\n",
       "      <td>0</td>\n",
       "      <td>1.602845e+09</td>\n",
       "      <td>*A tiny farm has come under the influence of d...</td>\n",
       "      <td>dnd</td>\n",
       "    </tr>\n",
       "    <tr>\n",
       "      <th>3</th>\n",
       "      <td>My DnD battle station.</td>\n",
       "      <td>8</td>\n",
       "      <td>jc0a5d</td>\n",
       "      <td>https://i.redd.it/ijs910oywct51.jpg</td>\n",
       "      <td>1</td>\n",
       "      <td>1.602839e+09</td>\n",
       "      <td></td>\n",
       "      <td>dnd</td>\n",
       "    </tr>\n",
       "    <tr>\n",
       "      <th>4</th>\n",
       "      <td>Some characters I've been making over the last...</td>\n",
       "      <td>2</td>\n",
       "      <td>jc03p8</td>\n",
       "      <td>https://imgur.com/a/zwtwud3</td>\n",
       "      <td>0</td>\n",
       "      <td>1.602839e+09</td>\n",
       "      <td></td>\n",
       "      <td>dnd</td>\n",
       "    </tr>\n",
       "  </tbody>\n",
       "</table>\n",
       "</div>"
      ],
      "text/plain": [
       "                                               title  score      id  \\\n",
       "0  Looking for a list of in-game books for my pla...      1  jc20y1   \n",
       "1                           Need a bit of assistance      1  jc1p79   \n",
       "2  [OC][Adventure]Something Wicked at the Eldritc...      1  jc1n6h   \n",
       "3                             My DnD battle station.      8  jc0a5d   \n",
       "4  Some characters I've been making over the last...      2  jc03p8   \n",
       "\n",
       "                                                 url  comms_num       created  \\\n",
       "0  https://www.reddit.com/r/DungeonsAndDragons/co...          0  1.602846e+09   \n",
       "1  https://www.reddit.com/r/DungeonsAndDragons/co...          2  1.602845e+09   \n",
       "2  https://www.reddit.com/r/DungeonsAndDragons/co...          0  1.602845e+09   \n",
       "3                https://i.redd.it/ijs910oywct51.jpg          1  1.602839e+09   \n",
       "4                        https://imgur.com/a/zwtwud3          0  1.602839e+09   \n",
       "\n",
       "                                                body subreddit  \n",
       "0  Preferably books that can go in most any medie...       dnd  \n",
       "1  Dont know much, but I want to try and get into...       dnd  \n",
       "2  *A tiny farm has come under the influence of d...       dnd  \n",
       "3                                                          dnd  \n",
       "4                                                          dnd  "
      ]
     },
     "execution_count": 13,
     "metadata": {},
     "output_type": "execute_result"
    }
   ],
   "source": [
    "df_total.head()"
   ]
  },
  {
   "cell_type": "code",
   "execution_count": 15,
   "metadata": {},
   "outputs": [],
   "source": [
    "#Read everything to CSV\n",
    "df_total.to_csv('../data/reddit_posts.csv')"
   ]
  },
  {
   "cell_type": "code",
   "execution_count": 16,
   "metadata": {},
   "outputs": [
    {
     "data": {
      "text/plain": [
       "(1994, 8)"
      ]
     },
     "execution_count": 16,
     "metadata": {},
     "output_type": "execute_result"
    }
   ],
   "source": [
    "df_total.shape"
   ]
  },
  {
   "cell_type": "markdown",
   "metadata": {},
   "source": [
    "## Pulling more data\n",
    "### For best results and more data wait a couple days to run the code blow after running the code above."
   ]
  },
  {
   "cell_type": "code",
   "execution_count": 5,
   "metadata": {},
   "outputs": [],
   "source": [
    "\n",
    "subredditdnd_hot = subreddit.hot(limit = 1000)\n",
    "subreddit40k_hot_2 = altsubreddit.hot(limit = 1000)"
   ]
  },
  {
   "cell_type": "code",
   "execution_count": 6,
   "metadata": {},
   "outputs": [],
   "source": [
    "subredditdnd_new = subreddit.new(limit = 1000)\n",
    "subreddit40k_new_2 = altsubreddit.new(limit = 1000)"
   ]
  },
  {
   "cell_type": "code",
   "execution_count": 8,
   "metadata": {},
   "outputs": [
    {
     "name": "stdout",
     "output_type": "stream",
     "text": [
      "(994, 7) (1000, 7) (981, 7) (999, 7)\n"
     ]
    }
   ],
   "source": [
    "df_dnd_new = df_formation(subredditdnd_new)\n",
    "df_40k_new = df_formation(subreddit40k_new_2)\n",
    "df_dnd_hot = df_formation(subredditdnd_hot)\n",
    "df_40k_hot = df_formation(subreddit40k_hot_2)\n",
    "print(df_dnd_new.shape, df_40k_new.shape, df_dnd_hot.shape, df_40k_hot.shape)"
   ]
  },
  {
   "cell_type": "code",
   "execution_count": 9,
   "metadata": {},
   "outputs": [
    {
     "data": {
      "text/plain": [
       "((1975, 7), (1999, 7))"
      ]
     },
     "execution_count": 9,
     "metadata": {},
     "output_type": "execute_result"
    }
   ],
   "source": [
    "df_dnd = pd.concat([df_dnd_hot, df_dnd_new])\n",
    "df_40k = pd.concat([df_40k_hot, df_40k_new])\n",
    "df_dnd.shape, df_40k.shape"
   ]
  },
  {
   "cell_type": "code",
   "execution_count": 10,
   "metadata": {},
   "outputs": [],
   "source": [
    "df_dnd['subreddit'] = 'dnd'\n",
    "df_40k['subreddit'] = '40k'"
   ]
  },
  {
   "cell_type": "code",
   "execution_count": 11,
   "metadata": {},
   "outputs": [
    {
     "data": {
      "text/plain": [
       "(3974, 8)"
      ]
     },
     "execution_count": 11,
     "metadata": {},
     "output_type": "execute_result"
    }
   ],
   "source": [
    "df_total = pd.concat([df_dnd, df_40k])\n",
    "df_total.shape"
   ]
  },
  {
   "cell_type": "code",
   "execution_count": null,
   "metadata": {},
   "outputs": [],
   "source": []
  },
  {
   "cell_type": "code",
   "execution_count": 13,
   "metadata": {},
   "outputs": [
    {
     "data": {
      "text/plain": [
       "(1994, 9)"
      ]
     },
     "execution_count": 13,
     "metadata": {},
     "output_type": "execute_result"
    }
   ],
   "source": [
    "old_df = pd.read_csv('../data/reddit_posts.csv')\n",
    "old_df.shape"
   ]
  },
  {
   "cell_type": "code",
   "execution_count": 16,
   "metadata": {},
   "outputs": [],
   "source": [
    "old_df.drop(columns='Unnamed: 0', inplace=True)"
   ]
  },
  {
   "cell_type": "code",
   "execution_count": 17,
   "metadata": {},
   "outputs": [
    {
     "data": {
      "text/plain": [
       "(1994, 8)"
      ]
     },
     "execution_count": 17,
     "metadata": {},
     "output_type": "execute_result"
    }
   ],
   "source": [
    "old_df.shape"
   ]
  },
  {
   "cell_type": "code",
   "execution_count": 18,
   "metadata": {},
   "outputs": [
    {
     "data": {
      "text/plain": [
       "(5968, 8)"
      ]
     },
     "execution_count": 18,
     "metadata": {},
     "output_type": "execute_result"
    }
   ],
   "source": [
    "df_total_total = pd.concat([old_df, df_total])\n",
    "df_total_total.shape"
   ]
  },
  {
   "cell_type": "code",
   "execution_count": 20,
   "metadata": {},
   "outputs": [
    {
     "data": {
      "text/plain": [
       "(3334, 8)"
      ]
     },
     "execution_count": 20,
     "metadata": {},
     "output_type": "execute_result"
    }
   ],
   "source": [
    "df_total_total.drop_duplicates(subset='id', inplace=True)\n",
    "df_total_total.shape"
   ]
  },
  {
   "cell_type": "code",
   "execution_count": 21,
   "metadata": {},
   "outputs": [],
   "source": [
    "df_total_total.to_csv('../data/main_reddit_posts.csv')"
   ]
  },
  {
   "cell_type": "markdown",
   "metadata": {},
   "source": [
    "## Pulling from slightly different reddits"
   ]
  },
  {
   "cell_type": "code",
   "execution_count": 4,
   "metadata": {},
   "outputs": [],
   "source": [
    "subreddit = reddit.subreddit('DnD')    #set to variable name, pick the name of a subreddit\n",
    "altsubreddit = reddit.subreddit('40k')"
   ]
  },
  {
   "cell_type": "code",
   "execution_count": 5,
   "metadata": {},
   "outputs": [],
   "source": [
    "subredditdnd_new = subreddit.new(limit = 1000)\n",
    "subreddit40k_new_2 = altsubreddit.new(limit = 1000)"
   ]
  },
  {
   "cell_type": "code",
   "execution_count": 6,
   "metadata": {},
   "outputs": [],
   "source": [
    "df_dnd = df_formation(subredditdnd_new)\n",
    "df_40k = df_formation(subreddit40k_new_2)"
   ]
  },
  {
   "cell_type": "code",
   "execution_count": 7,
   "metadata": {},
   "outputs": [],
   "source": [
    "df_dnd['target1'] = 'dnd'\n",
    "df_40k['target1'] = '40k'"
   ]
  },
  {
   "cell_type": "code",
   "execution_count": 8,
   "metadata": {},
   "outputs": [
    {
     "data": {
      "text/plain": [
       "((999, 8), (999, 8))"
      ]
     },
     "execution_count": 8,
     "metadata": {},
     "output_type": "execute_result"
    }
   ],
   "source": [
    "df_dnd.shape, df_40k.shape"
   ]
  },
  {
   "cell_type": "code",
   "execution_count": 9,
   "metadata": {},
   "outputs": [
    {
     "data": {
      "text/html": [
       "<div>\n",
       "<style scoped>\n",
       "    .dataframe tbody tr th:only-of-type {\n",
       "        vertical-align: middle;\n",
       "    }\n",
       "\n",
       "    .dataframe tbody tr th {\n",
       "        vertical-align: top;\n",
       "    }\n",
       "\n",
       "    .dataframe thead th {\n",
       "        text-align: right;\n",
       "    }\n",
       "</style>\n",
       "<table border=\"1\" class=\"dataframe\">\n",
       "  <thead>\n",
       "    <tr style=\"text-align: right;\">\n",
       "      <th></th>\n",
       "      <th>title</th>\n",
       "      <th>score</th>\n",
       "      <th>id</th>\n",
       "      <th>url</th>\n",
       "      <th>comms_num</th>\n",
       "      <th>created</th>\n",
       "      <th>body</th>\n",
       "      <th>target1</th>\n",
       "    </tr>\n",
       "  </thead>\n",
       "  <tbody>\n",
       "    <tr>\n",
       "      <th>0</th>\n",
       "      <td>DM help</td>\n",
       "      <td>1</td>\n",
       "      <td>jfj6ky</td>\n",
       "      <td>https://www.reddit.com/r/DnD/comments/jfj6ky/d...</td>\n",
       "      <td>0</td>\n",
       "      <td>1.603335e+09</td>\n",
       "      <td>Is it a good idea as a DM (who is creating a c...</td>\n",
       "      <td>dnd</td>\n",
       "    </tr>\n",
       "    <tr>\n",
       "      <th>1</th>\n",
       "      <td>Need Unique assassin qwerks or style</td>\n",
       "      <td>1</td>\n",
       "      <td>jfj6gs</td>\n",
       "      <td>https://www.reddit.com/r/DnD/comments/jfj6gs/n...</td>\n",
       "      <td>0</td>\n",
       "      <td>1.603335e+09</td>\n",
       "      <td>I’m designing a assassin guild style system an...</td>\n",
       "      <td>dnd</td>\n",
       "    </tr>\n",
       "    <tr>\n",
       "      <th>2</th>\n",
       "      <td>Is frost fingers just a worse burning hands?</td>\n",
       "      <td>1</td>\n",
       "      <td>jfj1d2</td>\n",
       "      <td>https://www.reddit.com/r/DnD/comments/jfj1d2/i...</td>\n",
       "      <td>1</td>\n",
       "      <td>1.603335e+09</td>\n",
       "      <td>I was looking at the icewind dale spell, frost...</td>\n",
       "      <td>dnd</td>\n",
       "    </tr>\n",
       "    <tr>\n",
       "      <th>3</th>\n",
       "      <td>How to unlock fast travel</td>\n",
       "      <td>1</td>\n",
       "      <td>jfiys7</td>\n",
       "      <td>https://www.reddit.com/r/DnD/comments/jfiys7/h...</td>\n",
       "      <td>7</td>\n",
       "      <td>1.603335e+09</td>\n",
       "      <td>I need to unlock fast travel in my game it s 5...</td>\n",
       "      <td>dnd</td>\n",
       "    </tr>\n",
       "    <tr>\n",
       "      <th>4</th>\n",
       "      <td>3 Free Mini Adventures!</td>\n",
       "      <td>1</td>\n",
       "      <td>jfiv7t</td>\n",
       "      <td>https://www.reddit.com/r/DnD/comments/jfiv7t/3...</td>\n",
       "      <td>0</td>\n",
       "      <td>1.603335e+09</td>\n",
       "      <td>Check them out for free on my Patreon page. Li...</td>\n",
       "      <td>dnd</td>\n",
       "    </tr>\n",
       "  </tbody>\n",
       "</table>\n",
       "</div>"
      ],
      "text/plain": [
       "                                          title  score      id  \\\n",
       "0                                       DM help      1  jfj6ky   \n",
       "1          Need Unique assassin qwerks or style      1  jfj6gs   \n",
       "2  Is frost fingers just a worse burning hands?      1  jfj1d2   \n",
       "3                     How to unlock fast travel      1  jfiys7   \n",
       "4                       3 Free Mini Adventures!      1  jfiv7t   \n",
       "\n",
       "                                                 url  comms_num       created  \\\n",
       "0  https://www.reddit.com/r/DnD/comments/jfj6ky/d...          0  1.603335e+09   \n",
       "1  https://www.reddit.com/r/DnD/comments/jfj6gs/n...          0  1.603335e+09   \n",
       "2  https://www.reddit.com/r/DnD/comments/jfj1d2/i...          1  1.603335e+09   \n",
       "3  https://www.reddit.com/r/DnD/comments/jfiys7/h...          7  1.603335e+09   \n",
       "4  https://www.reddit.com/r/DnD/comments/jfiv7t/3...          0  1.603335e+09   \n",
       "\n",
       "                                                body target1  \n",
       "0  Is it a good idea as a DM (who is creating a c...     dnd  \n",
       "1  I’m designing a assassin guild style system an...     dnd  \n",
       "2  I was looking at the icewind dale spell, frost...     dnd  \n",
       "3  I need to unlock fast travel in my game it s 5...     dnd  \n",
       "4  Check them out for free on my Patreon page. Li...     dnd  "
      ]
     },
     "execution_count": 9,
     "metadata": {},
     "output_type": "execute_result"
    }
   ],
   "source": [
    "df_total = pd.concat([df_dnd, df_40k])\n",
    "df_total.head()"
   ]
  },
  {
   "cell_type": "code",
   "execution_count": 10,
   "metadata": {},
   "outputs": [],
   "source": [
    "df_total.to_csv('../data/alt_reddit_posts.csv')"
   ]
  },
  {
   "cell_type": "code",
   "execution_count": null,
   "metadata": {},
   "outputs": [],
   "source": []
  }
 ],
 "metadata": {
  "kernelspec": {
   "display_name": "Python 3",
   "language": "python",
   "name": "python3"
  },
  "language_info": {
   "codemirror_mode": {
    "name": "ipython",
    "version": 3
   },
   "file_extension": ".py",
   "mimetype": "text/x-python",
   "name": "python",
   "nbconvert_exporter": "python",
   "pygments_lexer": "ipython3",
   "version": "3.7.1"
  }
 },
 "nbformat": 4,
 "nbformat_minor": 2
}
